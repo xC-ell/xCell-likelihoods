{
 "cells": [
  {
   "cell_type": "code",
   "execution_count": 1,
   "id": "218652b7-42ca-4373-9443-81ab0817a946",
   "metadata": {},
   "outputs": [],
   "source": [
    "from cobaya.model import get_model\n",
    "from cobaya.run import run\n",
    "import yaml\n",
    "import os\n",
    "\n",
    "import numpy as np"
   ]
  },
  {
   "cell_type": "code",
   "execution_count": 2,
   "id": "869fd12f-d9b7-4a9f-9f84-7e5f8817f0b3",
   "metadata": {},
   "outputs": [],
   "source": [
    "# Read in the yaml file\n",
    "config_fn = 'test_wisc.yaml'\n",
    "with open(config_fn, \"r\") as fin:\n",
    "    info = yaml.load(fin, Loader=yaml.FullLoader)\n"
   ]
  },
  {
   "cell_type": "code",
   "execution_count": 3,
   "id": "16ac91cc-c241-41c7-85cf-aacd1d6024f4",
   "metadata": {},
   "outputs": [
    {
     "name": "stderr",
     "output_type": "stream",
     "text": [
      "2024-06-28 12:46:02.186111: I tensorflow/core/util/port.cc:110] oneDNN custom operations are on. You may see slightly different numerical results due to floating-point round-off errors from different computation orders. To turn them off, set the environment variable `TF_ENABLE_ONEDNN_OPTS=0`.\n",
      "2024-06-28 12:46:02.187783: I tensorflow/tsl/cuda/cudart_stub.cc:28] Could not find cuda drivers on your machine, GPU will not be used.\n",
      "2024-06-28 12:46:02.217892: I tensorflow/tsl/cuda/cudart_stub.cc:28] Could not find cuda drivers on your machine, GPU will not be used.\n",
      "2024-06-28 12:46:02.218673: I tensorflow/core/platform/cpu_feature_guard.cc:182] This TensorFlow binary is optimized to use available CPU instructions in performance-critical operations.\n",
      "To enable the following instructions: AVX2 AVX_VNNI FMA, in other operations, rebuild TensorFlow with the appropriate compiler flags.\n",
      "2024-06-28 12:46:02.741331: W tensorflow/compiler/tf2tensorrt/utils/py_utils.cc:38] TF-TRT Warning: Could not find TensorRT\n"
     ]
    },
    {
     "name": "stdout",
     "output_type": "stream",
     "text": [
      "[model] *WARNING* Ignored blocks/options: ['force', 'sampler', 'output']\n",
      "Loading l-bias lpt emulator...\n",
      "[absl] Fingerprint not found. Saved model loading will continue.\n",
      "[absl] Fingerprint not found. Saved model loading will continue.\n",
      "[absl] Fingerprint not found. Saved model loading will continue.\n",
      "[absl] Fingerprint not found. Saved model loading will continue.\n",
      "[absl] Fingerprint not found. Saved model loading will continue.\n",
      "[absl] Fingerprint not found. Saved model loading will continue.\n",
      "[absl] Fingerprint not found. Saved model loading will continue.\n",
      "[absl] Fingerprint not found. Saved model loading will continue.\n",
      "[absl] Fingerprint not found. Saved model loading will continue.\n",
      "[absl] Fingerprint not found. Saved model loading will continue.\n",
      "[absl] Fingerprint not found. Saved model loading will continue.\n",
      "[absl] Fingerprint not found. Saved model loading will continue.\n",
      "[absl] Fingerprint not found. Saved model loading will continue.\n",
      "[absl] Fingerprint not found. Saved model loading will continue.\n",
      "[absl] Fingerprint not found. Saved model loading will continue.\n",
      "L-bias lpt emulator loaded in memory.\n",
      "Loading smeared bao emulator...\n",
      "[absl] Fingerprint not found. Saved model loading will continue.\n",
      "Smeared bao emulator loaded in memory.\n",
      "Loading non-linear l-bias emulator...\n",
      "[absl] Fingerprint not found. Saved model loading will continue.\n",
      "[absl] Fingerprint not found. Saved model loading will continue.\n",
      "[absl] Fingerprint not found. Saved model loading will continue.\n",
      "[absl] Fingerprint not found. Saved model loading will continue.\n",
      "[absl] Fingerprint not found. Saved model loading will continue.\n",
      "[absl] Fingerprint not found. Saved model loading will continue.\n",
      "[absl] Fingerprint not found. Saved model loading will continue.\n",
      "[absl] Fingerprint not found. Saved model loading will continue.\n",
      "[absl] Fingerprint not found. Saved model loading will continue.\n",
      "[absl] Fingerprint not found. Saved model loading will continue.\n",
      "[absl] Fingerprint not found. Saved model loading will continue.\n",
      "[absl] Fingerprint not found. Saved model loading will continue.\n",
      "[absl] Fingerprint not found. Saved model loading will continue.\n",
      "[absl] Fingerprint not found. Saved model loading will continue.\n",
      "[absl] Fingerprint not found. Saved model loading will continue.\n",
      "Nonlinear l-bias emulator loaded in memory.\n",
      "Loading sigma8 emulator...\n",
      "[absl] Fingerprint not found. Saved model loading will continue.\n",
      "Sigma8 emulator loaded in memory.\n",
      "Loading no-wiggles emulator...\n",
      "[absl] Fingerprint not found. Saved model loading will continue.\n",
      "No-wiggles emulator loaded in memory.\n",
      "Loading sigma8 emulator...\n",
      "[absl] Fingerprint not found. Saved model loading will continue.\n",
      "Sigma8 emulator loaded in memory.\n",
      "Loading linear emulator...\n",
      "[absl] Fingerprint not found. Saved model loading will continue.\n",
      "[absl] Fingerprint not found. Saved model loading will continue.\n",
      "Linear emulator loaded in memory.\n",
      "Loading no-wiggles emulator...\n",
      "[absl] Fingerprint not found. Saved model loading will continue.\n",
      "No-wiggles emulator loaded in memory.\n",
      "Loading non-linear emulator...\n",
      "[absl] Fingerprint not found. Saved model loading will continue.\n",
      "Nonlinear emulator loaded in memory.\n",
      "Loading Baryonic Emulator...\n",
      "[absl] Fingerprint not found. Saved model loading will continue.\n",
      "Baryonic Emulator loaded in memory.\n"
     ]
    }
   ],
   "source": [
    "model = get_model(info)"
   ]
  },
  {
   "cell_type": "code",
   "execution_count": 4,
   "id": "d44631a1-d2c3-4b1a-88cf-c182b0e054d4",
   "metadata": {},
   "outputs": [],
   "source": [
    "p0 = {}\n",
    "for p in info['params']:\n",
    "     if isinstance(info['params'][p], dict):\n",
    "         if 'ref' in info['params'][p]:\n",
    "             p0[p] = info['params'][p]['ref']['loc']\n",
    "#os.system('mkdir -p ' + info['output'])"
   ]
  },
  {
   "cell_type": "code",
   "execution_count": 5,
   "id": "a755f8e1-cc80-4b4d-a8f9-b8f30cd546f5",
   "metadata": {},
   "outputs": [
    {
     "data": {
      "text/plain": [
       "{}"
      ]
     },
     "execution_count": 5,
     "metadata": {},
     "output_type": "execute_result"
    }
   ],
   "source": [
    "p0"
   ]
  },
  {
   "cell_type": "code",
   "execution_count": 6,
   "id": "8d8410d0-04c6-4579-82a5-5d8f573a0f38",
   "metadata": {},
   "outputs": [
    {
     "name": "stdout",
     "output_type": "stream",
     "text": [
      "chi2 =  29.068096547076593\n"
     ]
    },
    {
     "name": "stderr",
     "output_type": "stream",
     "text": [
      "WARNING 18: ccl_cls.c: integ_cls_limber_qag_quad(): Default GSL integration failure, attempting backup method.: GSL ERROR: roundoff error\n"
     ]
    }
   ],
   "source": [
    "loglikes, derived = model.loglikes(p0)\n",
    "print(\"chi2 = \", -2 * loglikes[0])"
   ]
  },
  {
   "cell_type": "code",
   "execution_count": 7,
   "id": "a98c7031-56fe-4e85-9c80-fd58264688bc",
   "metadata": {},
   "outputs": [
    {
     "name": "stdout",
     "output_type": "stream",
     "text": [
      "[0.29537889575449444, -0.988765826557059, 4.233748392274997, -0.4037324675761367, 144]\n"
     ]
    }
   ],
   "source": [
    "print(derived)"
   ]
  },
  {
   "cell_type": "code",
   "execution_count": null,
   "id": "9a54ae57-ea2b-4697-a011-02327f710f0e",
   "metadata": {},
   "outputs": [],
   "source": []
  }
 ],
 "metadata": {
  "kernelspec": {
   "display_name": "Python 3 (ipykernel)",
   "language": "python",
   "name": "python3"
  },
  "language_info": {
   "codemirror_mode": {
    "name": "ipython",
    "version": 3
   },
   "file_extension": ".py",
   "mimetype": "text/x-python",
   "name": "python",
   "nbconvert_exporter": "python",
   "pygments_lexer": "ipython3",
   "version": "3.11.4"
  }
 },
 "nbformat": 4,
 "nbformat_minor": 5
}
